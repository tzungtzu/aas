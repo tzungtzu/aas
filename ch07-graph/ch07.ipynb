{
 "cells": [
  {
   "cell_type": "code",
   "execution_count": 1,
   "metadata": {
    "collapsed": true,
    "deletable": true,
    "editable": true
   },
   "outputs": [],
   "source": [
    "import scala.xml._"
   ]
  },
  {
   "cell_type": "code",
   "execution_count": 1,
   "metadata": {
    "collapsed": false,
    "deletable": true,
    "editable": true
   },
   "outputs": [
    {
     "data": {
      "text/plain": [
       "Name: Compile Error\n",
       "Message: <console>:17: error: object cloud9 is not a member of package edu.umd\n",
       "       import edu.umd.cloud9.collection.XMLInputFormat\n",
       "                      ^\n",
       "StackTrace: "
      ]
     },
     "execution_count": 1,
     "metadata": {},
     "output_type": "execute_result"
    }
   ],
   "source": [
    "import edu.umd.cloud9.collection.XMLInputFormat"
   ]
  },
  {
   "cell_type": "code",
   "execution_count": 5,
   "metadata": {
    "collapsed": false,
    "deletable": true,
    "editable": true
   },
   "outputs": [],
   "source": [
    "import org.apache.spark.sql.{Dataset,SparkSession}\n",
    "import org.apache.hadoop.io.{Text, LongWritable}\n",
    "import org.apache.hadoop.conf.Configuration"
   ]
  },
  {
   "cell_type": "code",
   "execution_count": 2,
   "metadata": {
    "collapsed": false,
    "deletable": true,
    "editable": true
   },
   "outputs": [],
   "source": [
    "def loadMedline(spark:SparkSession, path:String)={\n",
    "    import spark.implicits._\n",
    "    @transient val conf = new Configuration()\n",
    "//     conf.set(XMLInputFormat.START_TAG_KEY,'<MedlineCitation>')\n",
    "}"
   ]
  },
  {
   "cell_type": "code",
   "execution_count": 5,
   "metadata": {
    "collapsed": false,
    "deletable": true,
    "editable": true
   },
   "outputs": [
    {
     "data": {
      "text/plain": [
       "Left(Map(text/plain -> Magic AddJar failed to execute with error:\n",
       "no protocol: ch07-graph-2.0.0-jar-with-dependencies.jar))"
      ]
     },
     "execution_count": 5,
     "metadata": {},
     "output_type": "execute_result"
    }
   ],
   "source": [
    "%AddJar ch07-graph-2.0.0-jar-with-dependencies.jar -f"
   ]
  },
  {
   "cell_type": "code",
   "execution_count": null,
   "metadata": {
    "collapsed": true,
    "deletable": true,
    "editable": true
   },
   "outputs": [],
   "source": [
    "\"customDeps\"      : [\n",
    "  \"med-at-scale:ga4gh-model-java:0.1.0-SNAPSHOT\"\n",
    "]"
   ]
  }
 ],
 "metadata": {
  "kernelspec": {
   "display_name": "Apache Toree - Scala",
   "language": "scala",
   "name": "apache_toree_scala"
  },
  "language_info": {
   "name": "scala",
   "version": "2.11.8"
  }
 },
 "nbformat": 4,
 "nbformat_minor": 2
}
