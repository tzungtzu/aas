{
 "cells": [
  {
   "cell_type": "code",
   "execution_count": 1,
   "metadata": {
    "collapsed": true,
    "deletable": true,
    "editable": true
   },
   "outputs": [],
   "source": [
    "import scala.xml._"
   ]
  },
  {
   "cell_type": "code",
   "execution_count": 2,
   "metadata": {
    "collapsed": false,
    "deletable": true,
    "editable": true
   },
   "outputs": [
    {
     "data": {
      "text/plain": [
       "Name: Compile Error\n",
       "Message: <console>:32: error: object cloud9 is not a member of package edu.umd\n",
       "       import edu.umd.cloud9.collection.XMLInputFormat\n",
       "                      ^\n",
       "StackTrace: "
      ]
     },
     "execution_count": 2,
     "metadata": {},
     "output_type": "execute_result"
    }
   ],
   "source": [
    "import edu.umd.cloud9.collection.XMLInputFormat"
   ]
  },
  {
   "cell_type": "code",
   "execution_count": 5,
   "metadata": {
    "collapsed": false,
    "deletable": true,
    "editable": true
   },
   "outputs": [],
   "source": [
    "import org.apache.spark.sql.{Dataset,SparkSession}\n",
    "import org.apache.hadoop.io.{Text, LongWritable}\n",
    "import org.apache.hadoop.conf.Configuration"
   ]
  },
  {
   "cell_type": "code",
   "execution_count": 2,
   "metadata": {
    "collapsed": false,
    "deletable": true,
    "editable": true
   },
   "outputs": [],
   "source": [
    "def loadMedline(spark:SparkSession, path:String)={\n",
    "    import spark.implicits._\n",
    "    @transient val conf = new Configuration()\n",
    "//     conf.set(XMLInputFormat.START_TAG_KEY,'<MedlineCitation>')\n",
    "}"
   ]
  },
  {
   "cell_type": "code",
   "execution_count": null,
   "metadata": {
    "collapsed": false,
    "deletable": true,
    "editable": true
   },
   "outputs": [
    {
     "name": "stdout",
     "output_type": "stream",
     "text": [
      "Starting download from https://github.com/dustinvanstee/dv-hw-scala/raw/master/target/scala-2.10/dv-hw-scala-assembly-1.0.jar\n"
     ]
    }
   ],
   "source": [
    "%AddJar https://github.com/dustinvanstee/dv-hw-scala/raw/master/target/scala-2.10/dv-hw-scala-assembly-1.0.jar -f"
   ]
  },
  {
   "cell_type": "code",
   "execution_count": null,
   "metadata": {
    "collapsed": true
   },
   "outputs": [],
   "source": []
  }
 ],
 "metadata": {
  "kernelspec": {
   "display_name": "Apache Toree - Scala",
   "language": "scala",
   "name": "apache_toree_scala"
  },
  "language_info": {
   "name": "scala",
   "version": "2.11.8"
  }
 },
 "nbformat": 4,
 "nbformat_minor": 2
}
